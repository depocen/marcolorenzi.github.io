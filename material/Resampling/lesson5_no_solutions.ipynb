{
 "cells": [
  {
   "cell_type": "markdown",
   "metadata": {},
   "source": [
    "# Cross-validation techniques"
   ]
  },
  {
   "cell_type": "markdown",
   "metadata": {},
   "source": [
    "This lesson focuses on the practical implementation of cross-validation approaches for model performance quantification. Most of the material is based on the scikit-learn page (https://scikit-learn.org/stable/modules/cross_validation.html).\n",
    "\n",
    "Similarly as in bootstrap, cross-validation assesses the quality of a model (e.g. the bias and the variance) by only using the available data.  Instead of resampling our data with replacement, the model is trained on a subset of our data sampled _without replacement_. The testing of the model is then performed on the hold-out subset of the data not used for training.\n",
    "\n",
    "We have seen how this procedure an be easily implemented via the $\\mbox{np.random.choice}$ function."
   ]
  },
  {
   "cell_type": "code",
   "execution_count": 20,
   "metadata": {
    "jupyter": {
     "outputs_hidden": false
    }
   },
   "outputs": [
    {
     "name": "stdout",
     "output_type": "stream",
     "text": [
      "The size of X is: (150, 4)\n",
      "The size of the target is: (150,)\n"
     ]
    }
   ],
   "source": [
    "import numpy as np\n",
    "import matplotlib.pyplot as plt\n",
    "from sklearn import datasets\n",
    "\n",
    "iris = datasets.load_iris()\n",
    "print(\"The size of X is: \" + str(iris.data.shape) + \"\\nThe size of the target is: \" + str(iris.target.shape))\n"
   ]
  },
  {
   "cell_type": "code",
   "execution_count": 21,
   "metadata": {
    "jupyter": {
     "outputs_hidden": false
    }
   },
   "outputs": [
    {
     "name": "stdout",
     "output_type": "stream",
     "text": [
      "Training indices:\n",
      "[  0   1   2   3   6   8  10  11  12  13  14  15  17  19  20  24  25  26\n",
      "  27  29  30  32  36  39  40  42  43  46  47  48  49  50  51  53  54  55\n",
      "  56  57  58  59  60  61  62  63  64  65  67  71  72  73  75  76  78  83\n",
      "  84  85  87  88  89  90  91  92  93  97  98  99 101 106 107 108 109 110\n",
      " 111 112 116 117 118 119 123 126 127 130 132 136 137 138 141 144 147 149]\n",
      "Testing indices:\n",
      "[  4   5   7   9  16  18  21  22  23  28  31  33  34  35  37  38  41  44\n",
      "  45  52  66  68  69  70  74  77  79  80  81  82  86  94  95  96 100 102\n",
      " 103 104 105 113 114 115 120 121 122 124 125 128 129 131 133 134 135 139\n",
      " 140 142 143 145 146 148]\n",
      "The training dimension is: (90, 4)\n",
      "The testing dimension is: (60, 4)\n"
     ]
    }
   ],
   "source": [
    "# We choose to perform training on 60% of the data\n",
    "hold_out = 0.4\n",
    "len_training = int((1-hold_out) * iris.data.shape[0])\n",
    "\n",
    "training_index = np.random.choice(range(iris.data.shape[0]), len_training, replace=False)\n",
    "testing_index = np.setdiff1d(range(iris.data.shape[0]),training_index, assume_unique=True)\n",
    "\n",
    "print(\"Training indices:\\n\" + str(np.sort(training_index)))\n",
    "print(\"Testing indices:\\n\" + str(np.sort(testing_index)))\n",
    "\n",
    "X_train = iris.data[training_index,:]\n",
    "y_train = iris.target[training_index]\n",
    "\n",
    "X_test = iris.data[testing_index,:]\n",
    "y_test = iris.target[testing_index]\n",
    "\n",
    "\n",
    "print(\"The training dimension is: \" + str(X_train.shape))\n",
    "print(\"The testing dimension is: \" + str(X_test.shape))\n"
   ]
  },
  {
   "cell_type": "code",
   "execution_count": 22,
   "metadata": {
    "jupyter": {
     "outputs_hidden": false
    }
   },
   "outputs": [
    {
     "name": "stdout",
     "output_type": "stream",
     "text": [
      "The training dimension is: (90, 4)\n",
      "The testing dimension is: (60, 4)\n"
     ]
    }
   ],
   "source": [
    "from sklearn.model_selection import train_test_split\n",
    "\n",
    "## Equivalent sklearn command\n",
    "X_train, X_test, y_train, y_test = train_test_split(iris.data, iris.target, test_size=0.4, random_state=412123)\n",
    "\n",
    "print(\"The training dimension is: \" + str(X_train.shape))\n",
    "print(\"The testing dimension is: \" + str(X_test.shape))"
   ]
  },
  {
   "cell_type": "markdown",
   "metadata": {},
   "source": [
    "$\\textbf{Exercise.}$ Choose a classifier and compute training and testing accuracy for this data."
   ]
  },
  {
   "cell_type": "code",
   "execution_count": null,
   "metadata": {
    "jupyter": {
     "outputs_hidden": false
    }
   },
   "outputs": [],
   "source": []
  },
  {
   "cell_type": "markdown",
   "metadata": {},
   "source": [
    "The obtained testing performance is however biased by the specific choice of the training/testing split. If we perform a different split we would probably get different results. Can you verify this?"
   ]
  },
  {
   "cell_type": "code",
   "execution_count": null,
   "metadata": {
    "jupyter": {
     "outputs_hidden": false
    }
   },
   "outputs": [],
   "source": []
  },
  {
   "cell_type": "markdown",
   "metadata": {},
   "source": [
    "Taking inspiration from the bootstrap technique, we can iterate over different samples of the data to obtain an estimator of the mean performance of our model. This approach is for example at the basis of _k-fold cross validation_. We split the data in _k_ __non overlapping__ smaller sets:\n",
    "\n",
    "- we train the model on $k-1$ subsets\n",
    "- we test it on the hold-out set\n",
    "\n"
   ]
  },
  {
   "cell_type": "markdown",
   "metadata": {},
   "source": [
    "$\\textbf{Exercise.}$ Write a routine to perform k-fold cross validation on the given data."
   ]
  },
  {
   "cell_type": "code",
   "execution_count": 89,
   "metadata": {},
   "outputs": [],
   "source": []
  },
  {
   "cell_type": "code",
   "execution_count": 97,
   "metadata": {
    "jupyter": {
     "outputs_hidden": false
    }
   },
   "outputs": [
    {
     "name": "stdout",
     "output_type": "stream",
     "text": [
      "The accuracy from 10-fold cross validation is: \n",
      "[1.         0.93333333 1.         0.93333333 0.86666667 1.\n",
      " 0.86666667 0.93333333 1.         1.        ]\n",
      "The average accuracy from 10-fold cross validation is: 0.9533333333333334\n"
     ]
    }
   ],
   "source": [
    "from sklearn.model_selection import cross_val_score\n",
    "\n",
    "sklearn_accuracy = cross_val_score(model, iris.data, iris.target, scoring = 'accuracy', cv=10)\n",
    "\n",
    "print(\"The accuracy from \" + str(k) + \"-fold cross validation is: \\n\" + str(sklearn_accuracy))\n",
    "\n",
    "print(\"The average accuracy from \" + str(k) + \"-fold cross validation is: \" + str(np.mean(sklearn_accuracy)))"
   ]
  },
  {
   "cell_type": "markdown",
   "metadata": {},
   "source": [
    "K-fold cross-validation can be also repeated several times, and the average cross-validation accuracy can be reported. "
   ]
  },
  {
   "cell_type": "code",
   "execution_count": 27,
   "metadata": {
    "jupyter": {
     "outputs_hidden": false
    }
   },
   "outputs": [
    {
     "name": "stdout",
     "output_type": "stream",
     "text": [
      "TRAIN: [0 1] TEST: [2 3]\n",
      "TRAIN: [2 3] TEST: [0 1]\n",
      "TRAIN: [1 2] TEST: [0 3]\n",
      "TRAIN: [0 3] TEST: [1 2]\n"
     ]
    }
   ],
   "source": [
    "from sklearn.model_selection import RepeatedKFold\n",
    "\n",
    "X = np.array([[1, 2], [3, 4], [1, 2], [3, 4]])\n",
    "y = np.array([0, 0, 1, 1])\n",
    "\n",
    "rkf = RepeatedKFold(n_splits=2, n_repeats=2, random_state=2652124)\n",
    "for train_index, test_index in rkf.split(X):\n",
    "    print(\"TRAIN:\", train_index, \"TEST:\", test_index)\n",
    "    X_train, X_test = X[train_index], X[test_index]\n",
    "    y_train, y_test = y[train_index], y[test_index]"
   ]
  },
  {
   "cell_type": "markdown",
   "metadata": {},
   "source": [
    "$\\mathbf{Exercise.}$ Write a repeated K-fold strategy for the iris dataset."
   ]
  },
  {
   "cell_type": "markdown",
   "metadata": {},
   "source": [
    "## Leave one out\n",
    "\n",
    "We have seen during the previous lesson that removing a single point from the dataset can have a drastic impact on the modeling variability. This fact motivates another standard cross-validation strategy called _leave one out_ (LOO). In LOO the model is trained on a subset of the data containing all but a single data point. The testing is performed on the single hold-out point. We therefore obtain  $\\mbox{N_sample}$ predictions.\n"
   ]
  },
  {
   "cell_type": "markdown",
   "metadata": {},
   "source": [
    "$\\textbf{Exercise.}$ Write a LOO routine for this data."
   ]
  },
  {
   "cell_type": "code",
   "execution_count": 12,
   "metadata": {
    "jupyter": {
     "outputs_hidden": false
    }
   },
   "outputs": [
    {
     "name": "stdout",
     "output_type": "stream",
     "text": [
      "The fold size is: 1.0\n",
      "Average training accuracy 0.9799108148281612\n",
      "SD training accuracy 0.00122860967496832\n",
      "Average testing accuracy 0.9463087248322147\n",
      "SD testing accuracy 0.22540745803686799\n"
     ]
    },
    {
     "data": {
      "image/png": "[encoded data removed]",
      "text/plain": [
       "<Figure size 432x288 with 1 Axes>"
      ]
     },
     "metadata": {
      "needs_background": "light"
     },
     "output_type": "display_data"
    },
    {
     "name": "stdout",
     "output_type": "stream",
     "text": [
      "The average LOO accuracy is: 0.9463087248322147\n"
     ]
    }
   ],
   "source": [
    "from sklearn.neighbors import KNeighborsClassifier\n",
    "\n",
    "loo_accuracy = []\n",
    "\n",
    "model = KNeighborsClassifier(n_neighbors=2)\n",
    "\n",
    "from sklearn.utils import shuffle\n",
    "\n",
    "model = KNeighborsClassifier(n_neighbors=2)\n",
    "np.random.seed(2123)\n",
    "\n",
    "data_idx = np.arange(iris.data.shape[0])\n",
    "\n",
    "# Shuffling the data\n",
    "#### Mode 1 \n",
    "# shuffling the data indices\n",
    "np.random.shuffle(data_idx)\n",
    "# getting data and labels at shuffled indices\n",
    "X_shuffled = iris.data[data_idx,:]\n",
    "y_shuffled = iris.target[data_idx]\n",
    "\n",
    "#### Mode 2 \n",
    "# Stacking data and labels\n",
    "#stacked_data = np.hstack([iris.data,iris.target.reshape(-1,1)])\n",
    "# Shuffling data and labels\n",
    "#np.random.seed(2123)\n",
    "#np.random.shuffle(stacked_data)\n",
    "# Separatig shuffled data from shuffled labels\n",
    "#X_shuffled = stacked_data[:,:4]\n",
    "#y_shuffled = stacked_data[:,4]\n",
    "\n",
    "#### Mode 3\n",
    "# From sklearn\n",
    "#shuffled_data, shuffled_target = shuffle(iris.data, iris.target)\n",
    "\n",
    "k = X_shuffled.shape[0]-1\n",
    "\n",
    "fold_size = np.floor(X_shuffled.shape[0]/k)\n",
    "\n",
    "print('The fold size is:', fold_size)\n",
    "\n",
    "training_acc = []\n",
    "testing_acc = []\n",
    "\n",
    "for i in range(k):\n",
    "    # We compute the index where the testing data starts  \n",
    "    begin = int(i*fold_size) \n",
    "    # We compute the index where the testing data stops \n",
    "    end = int((i+1)*fold_size)\n",
    "    \n",
    "    # We extract the testing data in the range [begin, start]  \n",
    "    testing_data = X_shuffled[begin:end,:]\n",
    "    # We extract the testing labels in the range [begin, start]\n",
    "    testing_labels = y_shuffled[begin:end]\n",
    "    \n",
    "    # We compute the training indices as the remaining idices of \n",
    "    # our data when we remove the testing ones\n",
    "    training_indices = np.setdiff1d(range(X_shuffled.shape[0]),range(begin,end), assume_unique=True)\n",
    "  \n",
    "    # We extract the testing data in the range [begin, start]  \n",
    "    training_data = X_shuffled[training_indices,:]\n",
    "    # We extract the testing labels in the range [begin, start]\n",
    "    training_labels = y_shuffled[training_indices]\n",
    "    \n",
    "    # We train the model on the training data\n",
    "    model.fit(training_data, training_labels)\n",
    "    \n",
    "    # We compute the accuracy in the training data\n",
    "    training_acc.append(model.score(training_data, training_labels))\n",
    "    # We compute the accuracy in the testing data\n",
    "    testing_acc.append(model.score(testing_data, testing_labels))\n",
    "                       \n",
    "\n",
    "        \n",
    "print('Average training accuracy', np.mean(training_acc))    \n",
    "print('SD training accuracy', np.std(training_acc))\n",
    "print('Average testing accuracy', np.mean(testing_acc))    \n",
    "print('SD testing accuracy', np.std(testing_acc))\n",
    "\n",
    "\n",
    "plt.hist(testing_acc, bins=30)\n",
    "plt.title('LOO accuracy histogram')\n",
    "plt.show()\n",
    "\n",
    "print('The average LOO accuracy is: ' + str(np.mean(testing_acc)))\n",
    " "
   ]
  },
  {
   "cell_type": "code",
   "execution_count": 14,
   "metadata": {
    "jupyter": {
     "outputs_hidden": false
    }
   },
   "outputs": [
    {
     "data": {
      "image/png": "[encoded data removed]",
      "text/plain": [
       "<Figure size 432x288 with 1 Axes>"
      ]
     },
     "metadata": {
      "needs_background": "light"
     },
     "output_type": "display_data"
    },
    {
     "name": "stdout",
     "output_type": "stream",
     "text": [
      "The average LOO accuracy with sklearn is: 0.9466666666666667\n"
     ]
    }
   ],
   "source": [
    "## Sklearn implementation\n",
    "\n",
    "##Note: ``LeaveOneOut()`` is equivalent to ``KFold(n_splits=n)``\n",
    "\n",
    "from sklearn.model_selection import LeaveOneOut\n",
    "\n",
    "loo = LeaveOneOut()\n",
    "model = KNeighborsClassifier(n_neighbors=2)\n",
    "\n",
    "loo_accuracy_sklearn = []\n",
    "for train, test in loo.split(iris.data):\n",
    "    \n",
    "    model.fit(iris.data[train,:], iris.target[train])\n",
    "    loo_accuracy.append(model.score(iris.data[test,:], iris.target[test]))\n",
    "    \n",
    "\n",
    "plt.hist(loo_accuracy, bins=30)\n",
    "plt.title('LOO accuracy histogram with sklearn')\n",
    "plt.show()\n",
    "\n",
    "print('The average LOO accuracy with sklearn is: ' + str(np.mean(loo_accuracy)))"
   ]
  },
  {
   "cell_type": "markdown",
   "metadata": {},
   "source": [
    "## Receiving Operator Characteristic (ROC) \n",
    "\n",
    "ROC curves are typically computed by evaluating the false positive rate and the true positive rate, plotted respectively on the X and Y axis. Remember that both True positive rate and false positive rate take values in [0,1]. An optimal classifier whould ideally keep the false positive rate as low as possible (ideally zero), and the true positive rate as large as possible (ideally one). Therefore, the maximum value of the area defined by the ROC curve (area under the curve - AUC -) is 1, which is the area of a square of side equal to 1. In general the area under the ROC curve takes values in [0,1] too, the larger the better.\n",
    "\n",
    "We recall from lesson 2:\n",
    "\n",
    "- Accuracy: quantifies the overall number of correct predictions\n",
    "$$ ACC = \\frac{\\mbox{True Positives} + \\mbox{True negatives}}{\\mbox{Total sample size}}$$\n",
    "\n",
    "\n",
    "- Precision (positive predictive value): quantifies the number of correct predictions among all the positive predictions\n",
    "$$ PRECISION = \\frac{\\mbox{True Positives}}{\\mbox{True Positives} + \\mbox{False Positives} } $$\n",
    "\n",
    "\n",
    "- Recall (true positive rate, or sensitivity): quantifies the number of correct predictions among all the positive data\n",
    "$$ RECALL = \\frac{\\mbox{True Positives}}{\\mbox{True Positives} + \\mbox{False Negatives} } $$\n",
    "\n",
    "\n",
    "- Specificity (true negative rate): quantifies the number of correct predictions among all the negative data\n",
    "$$ SPEC = \\frac{\\mbox{True Negatives}}{\\mbox{False Positives} + \\mbox{True Negatives} } $$\n",
    "\n"
   ]
  },
  {
   "cell_type": "code",
   "execution_count": 15,
   "metadata": {
    "jupyter": {
     "outputs_hidden": false
    }
   },
   "outputs": [
    {
     "data": {
      "image/png": "[encoded data removed]",
      "text/plain": [
       "<Figure size 432x288 with 1 Axes>"
      ]
     },
     "metadata": {
      "needs_background": "light"
     },
     "output_type": "display_data"
    },
    {
     "name": "stdout",
     "output_type": "stream",
     "text": [
      "Original shape of X: (100, 4)\n",
      "New shape of X: (100, 804)\n"
     ]
    }
   ],
   "source": [
    "import numpy as np\n",
    "from scipy import interp\n",
    "\n",
    "from sklearn import svm, datasets\n",
    "from sklearn.metrics import roc_curve, auc\n",
    "from sklearn.model_selection import StratifiedKFold\n",
    "\n",
    "# #############################################################################\n",
    "# Data IO and generation\n",
    "\n",
    "# Import the data\n",
    "iris = datasets.load_iris()\n",
    "X = iris.data\n",
    "y = iris.target\n",
    "X, y = X[y != 2], y[y != 2]\n",
    "\n",
    "n_samples, n_features = X.shape\n",
    "\n",
    "plt.hist(y)\n",
    "plt.title('Classes histogram')\n",
    "plt.show()\n",
    "\n",
    "# Add noisy features\n",
    "random_state = np.random.RandomState(0)\n",
    "\n",
    "print('Original shape of X: ' + str(X.shape))\n",
    "X = np.c_[X, random_state.randn(n_samples, 200 * n_features)]\n",
    "print('New shape of X: ' + str(X.shape))\n"
   ]
  },
  {
   "cell_type": "code",
   "execution_count": 16,
   "metadata": {
    "jupyter": {
     "outputs_hidden": false
    }
   },
   "outputs": [
    {
     "name": "stdout",
     "output_type": "stream",
     "text": [
      "Probabilistic predictions:\n",
      "[[0.99191878 0.00808122]\n",
      " [0.99190517 0.00809483]\n",
      " [0.99191119 0.00808881]\n",
      " [0.99191854 0.00808146]\n",
      " [0.99192718 0.00807282]\n",
      " [0.99190144 0.00809856]\n",
      " [0.99192764 0.00807236]\n",
      " [0.9919065  0.0080935 ]\n",
      " [0.99191241 0.00808759]\n",
      " [0.99192279 0.00807721]\n",
      " [0.99190248 0.00809752]\n",
      " [0.99192897 0.00807103]\n",
      " [0.9919093  0.0080907 ]\n",
      " [0.99191222 0.00808778]\n",
      " [0.99191461 0.00808539]\n",
      " [0.99190517 0.00809483]\n",
      " [0.99189293 0.00810707]\n",
      " [0.99192511 0.00807489]\n",
      " [0.99191352 0.00808648]\n",
      " [0.9919019  0.0080981 ]\n",
      " [0.99190023 0.00809977]\n",
      " [0.99191256 0.00808744]\n",
      " [0.99191297 0.00808703]\n",
      " [0.99191244 0.00808756]\n",
      " [0.99191339 0.00808661]\n",
      " [0.99191256 0.00808744]\n",
      " [0.99191493 0.00808507]\n",
      " [0.99190514 0.00809486]\n",
      " [0.99190455 0.00809545]\n",
      " [0.99191546 0.00808454]\n",
      " [0.99191418 0.00808582]\n",
      " [0.99190775 0.00809225]\n",
      " [0.99191237 0.00808763]\n",
      " [0.99190938 0.00809062]\n",
      " [0.99192427 0.00807573]\n",
      " [0.99191443 0.00808557]\n",
      " [0.9919109  0.0080891 ]\n",
      " [0.99191233 0.00808767]\n",
      " [0.99191294 0.00808706]\n",
      " [0.99192347 0.00807653]\n",
      " [0.99191829 0.00808171]\n",
      " [0.9919304  0.0080696 ]\n",
      " [0.99190208 0.00809792]\n",
      " [0.99192329 0.00807671]\n",
      " [0.99190888 0.00809112]\n",
      " [0.99191636 0.00808364]\n",
      " [0.99191979 0.00808021]\n",
      " [0.9919024  0.0080976 ]\n",
      " [0.99190914 0.00809086]\n",
      " [0.99190736 0.00809264]\n",
      " [0.00833586 0.99166414]\n",
      " [0.00831315 0.99168685]\n",
      " [0.00831371 0.99168629]\n",
      " [0.00832148 0.99167852]\n",
      " [0.00832241 0.99167759]\n",
      " [0.00832099 0.99167901]\n",
      " [0.00832542 0.99167458]\n",
      " [0.00831472 0.99168528]\n",
      " [0.00831824 0.99168176]\n",
      " [0.00833152 0.99166848]\n",
      " [0.00834281 0.99165719]\n",
      " [0.00833829 0.99166171]\n",
      " [0.00832714 0.99167286]\n",
      " [0.00831898 0.99168102]\n",
      " [0.00832505 0.99167495]\n",
      " [0.00832917 0.99167083]\n",
      " [0.00833719 0.99166281]\n",
      " [0.0083258  0.9916742 ]\n",
      " [0.00833718 0.99166282]\n",
      " [0.00833104 0.99166896]\n",
      " [0.00832773 0.99167227]\n",
      " [0.0083152  0.9916848 ]\n",
      " [0.00831887 0.99168113]\n",
      " [0.00832542 0.99167458]\n",
      " [0.00830936 0.99169064]\n",
      " [0.00834064 0.99165936]\n",
      " [0.00831979 0.99168021]\n",
      " [0.00831523 0.99168477]\n",
      " [0.00832569 0.99167431]\n",
      " [0.00831584 0.99168416]\n",
      " [0.00832016 0.99167984]\n",
      " [0.00834397 0.99165603]\n",
      " [0.00833746 0.99166254]\n",
      " [0.00830801 0.99169199]\n",
      " [0.00831981 0.99168019]\n",
      " [0.00833853 0.99166147]\n",
      " [0.00833709 0.99166291]\n",
      " [0.00832843 0.99167157]\n",
      " [0.008332   0.991668  ]\n",
      " [0.00833988 0.99166012]\n",
      " [0.00832858 0.99167142]\n",
      " [0.00832985 0.99167015]\n",
      " [0.00833712 0.99166288]\n",
      " [0.00833098 0.99166902]\n",
      " [0.0083236  0.9916764 ]\n",
      " [0.00833324 0.99166676]\n",
      " [0.00833195 0.99166805]\n",
      " [0.00832554 0.99167446]\n",
      " [0.00832866 0.99167134]\n",
      " [0.00834332 0.99165668]]\n",
      "fpr: [0. 0. 0. 1.]\n",
      "tpr: [0.   0.02 1.   1.  ]\n",
      "thr: [1.99169199 0.99169199 0.99165603 0.0080696 ]\n"
     ]
    },
    {
     "data": {
      "image/png": "[encoded data removed]",
      "text/plain": [
       "<Figure size 432x288 with 1 Axes>"
      ]
     },
     "metadata": {
      "needs_background": "light"
     },
     "output_type": "display_data"
    }
   ],
   "source": [
    "# #############################################################################\n",
    "# Classification and ROC analysis\n",
    "classifier = svm.SVC(kernel='linear', probability=True,\n",
    "                     random_state=random_state)\n",
    "\n",
    "#Evaluating the classifier on the full data sample\n",
    "probas_ = classifier.fit(X, y)\n",
    "\n",
    "probas_ = classifier.predict_proba(X)\n",
    "\n",
    "print(\"Probabilistic predictions:\\n\" + str(probas_))\n",
    "\n",
    "fpr, tpr, thresholds = roc_curve(y, probas_[:,1])\n",
    "\n",
    "print('fpr: ' + str(fpr))\n",
    "print('tpr: ' + str(tpr))\n",
    "print('thr: ' + str(thresholds))\n",
    "\n",
    "area_under_the_curve = auc(fpr, tpr)\n",
    "\n",
    "plt.scatter(fpr,tpr)\n",
    "plt.xlim([-0.1,1.1])\n",
    "plt.xlabel('False positive rate')\n",
    "plt.ylim([-0.1,1.1])\n",
    "plt.ylabel('True positive rate')\n",
    "plt.title('fpr vs tpr\\nthe estimated area is: ' + str(area_under_the_curve))\n",
    "plt.show()\n"
   ]
  },
  {
   "cell_type": "code",
   "execution_count": 17,
   "metadata": {
    "jupyter": {
     "outputs_hidden": false
    }
   },
   "outputs": [
    {
     "data": {
      "image/png": "[encoded data removed]",
      "text/plain": [
       "<Figure size 432x288 with 1 Axes>"
      ]
     },
     "metadata": {
      "needs_background": "light"
     },
     "output_type": "display_data"
    },
    {
     "name": "stdout",
     "output_type": "stream",
     "text": [
      "The estimated tpr for fold 0: \n",
      "[0.         0.44444444 0.44444444 0.44444444 0.44444444 0.44444444\n",
      " 0.44444444 0.44444444 0.44444444 0.44444444 0.44444444 0.44444444\n",
      " 0.44444444 0.44444444 0.44444444 0.44444444 0.44444444 0.44444444\n",
      " 0.44444444 0.44444444 0.44444444 0.44444444 0.55555556 0.55555556\n",
      " 0.55555556 0.55555556 0.55555556 0.55555556 0.55555556 0.55555556\n",
      " 0.55555556 0.55555556 0.55555556 0.77777778 0.77777778 0.77777778\n",
      " 0.77777778 0.77777778 0.77777778 0.77777778 0.77777778 0.77777778\n",
      " 0.77777778 0.77777778 1.         1.         1.         1.\n",
      " 1.         1.         1.         1.         1.         1.\n",
      " 1.         1.         1.         1.         1.         1.\n",
      " 1.         1.         1.         1.         1.         1.\n",
      " 1.         1.         1.         1.         1.         1.\n",
      " 1.         1.         1.         1.         1.         1.\n",
      " 1.         1.         1.         1.         1.         1.\n",
      " 1.         1.         1.         1.         1.         1.\n",
      " 1.         1.         1.         1.         1.         1.\n",
      " 1.         1.         1.         1.        ]\n"
     ]
    }
   ],
   "source": [
    "# Within a cross-validation loop\n",
    "# Run classifier with cross-validation and plot ROC curves\n",
    "\n",
    "cv = StratifiedKFold(n_splits=6)\n",
    "\n",
    "roc_sample = []\n",
    "aucs = []\n",
    "mean_fpr = np.linspace(0, 1, 100)\n",
    "i = 0\n",
    "\n",
    "for train, test in cv.split(X, y):\n",
    "    probas_ = classifier.fit(X[train], y[train]).predict_proba(X[test])\n",
    "    # Compute ROC curve and area under the curve\n",
    "    fpr, tpr, thresholds = roc_curve(y[test], probas_[:, 1])\n",
    "    roc_sample.append(np.interp(mean_fpr, fpr, tpr))\n",
    "    # We impose the ROC curve to start from 0\n",
    "    roc_sample[-1][0] = 0.0\n",
    "    # Compute the area under the curve\n",
    "    roc_auc = auc(fpr, tpr)\n",
    "    aucs.append(roc_auc)\n",
    "    # Plotting the ROC curve\n",
    "    plt.plot(fpr, tpr, lw=1, alpha=0.3,\n",
    "             label='ROC fold %d (AUC = %0.2f)' % (i, roc_auc))\n",
    "\n",
    "    i += 1\n",
    "\n",
    "plt.legend()\n",
    "plt.show()\n",
    "\n",
    "print('The estimated tpr for fold 0: ')\n",
    "print(roc_sample[0])"
   ]
  },
  {
   "cell_type": "code",
   "execution_count": 18,
   "metadata": {
    "jupyter": {
     "outputs_hidden": false
    }
   },
   "outputs": [
    {
     "data": {
      "image/png": "[encoded data removed]",
      "text/plain": [
       "<Figure size 432x288 with 1 Axes>"
      ]
     },
     "metadata": {
      "needs_background": "light"
     },
     "output_type": "display_data"
    }
   ],
   "source": [
    "# Summarizing the cross-validation results\n",
    "\n",
    "# Adding diagonal line of random classification \n",
    "plt.plot([0, 1], [0, 1], linestyle='--', lw=2, color='r',\n",
    "         label='Chance', alpha=.8)\n",
    "\n",
    "# Computing mean and std for the curves\n",
    "mean_tpr = np.mean(roc_sample, axis=0)\n",
    "std_tpr = np.std(roc_sample, axis=0)\n",
    "\n",
    "# We impose the end point of the average ROC to be equal to 1\n",
    "mean_tpr[-1] = 1.0\n",
    "\n",
    "# Computing the AUC of the average curves\n",
    "mean_auc = auc(mean_fpr, mean_tpr)\n",
    "# Computing the std of the AUCs \n",
    "std_auc = np.std(aucs)\n",
    "\n",
    "plt.plot(mean_fpr, mean_tpr, color='b',\n",
    "         label=r'Mean ROC (AUC = %0.2f $\\pm$ %0.2f)' % (mean_auc, std_auc),\n",
    "         lw=2, alpha=.8)\n",
    "\n",
    "\n",
    "# Nice plot of curve with std\n",
    "tprs_upper = np.minimum(mean_tpr + std_tpr, 1)\n",
    "tprs_lower = np.maximum(mean_tpr - std_tpr, 0)\n",
    "plt.fill_between(mean_fpr, tprs_lower, tprs_upper, color='grey', alpha=.2,\n",
    "                 label=r'$\\pm$ 1 std. dev.')\n",
    "\n",
    "plt.xlim([-0.05, 1.05])\n",
    "plt.ylim([-0.05, 1.05])\n",
    "plt.xlabel('False Positive Rate')\n",
    "plt.ylabel('True Positive Rate')\n",
    "plt.title('Receiver operating characteristic example')\n",
    "plt.legend(loc=\"lower right\")\n",
    "plt.show()"
   ]
  },
  {
   "cell_type": "markdown",
   "metadata": {},
   "source": [
    "## Stratification"
   ]
  },
  {
   "cell_type": "markdown",
   "metadata": {},
   "source": [
    "When the data is unbalanced, k-fold cross-validation may pose problems of biased accuracy quantification"
   ]
  },
  {
   "cell_type": "code",
   "execution_count": 23,
   "metadata": {
    "jupyter": {
     "outputs_hidden": false
    }
   },
   "outputs": [
    {
     "name": "stdout",
     "output_type": "stream",
     "text": [
      "*** Training ***\n",
      "Elements of class 0: 0.9\n",
      "Elements of class 1: 0.1\n",
      "*** Testing ***\n",
      "Elements of class 0: 0.92\n",
      "Elements of class 1: 0.08\n"
     ]
    }
   ],
   "source": [
    "from sklearn.datasets import make_classification\n",
    "from sklearn.metrics import precision_score, recall_score\n",
    "from sklearn.metrics import recall_score\n",
    "\n",
    "\n",
    "X, y = make_classification(n_samples = 100, n_features=2, n_redundant=0, n_informative=2, \\\n",
    "                           random_state=0, n_clusters_per_class=1, weights = [0.9])\n",
    "\n",
    "\n",
    "model = KNeighborsClassifier(n_neighbors=5)\n",
    "\n",
    "X_train, X_test, y_train, y_test = train_test_split(X, y, test_size=0.5, random_state=4)\n",
    "clf = model.fit(X_train, y_train)\n",
    "\n",
    "print(\"*** Training ***\")\n",
    "print(\"Elements of class 0: \" + str(np.sum(y_train==0)/len(y_train)))\n",
    "print(\"Elements of class 1: \" + str(np.sum(y_train==1)/len(y_train)))\n",
    "\n",
    "print(\"*** Testing ***\")\n",
    "print(\"Elements of class 0: \" + str(np.sum(y_test==0)/len(y_test)))\n",
    "print(\"Elements of class 1: \" + str(np.sum(y_test==1)/len(y_test)))\n",
    "\n",
    "\n",
    "\n"
   ]
  },
  {
   "cell_type": "markdown",
   "metadata": {},
   "source": [
    "We observe that the classes are not equally represented in training and testing data. This may pose a problem in the evaluation of the classifier, as the performance is not evaluated on the data with same distribution. For this reason, we would like to keep the proportion of classes constant across data split. This operation is called _stratified k-fold_.\n"
   ]
  },
  {
   "cell_type": "markdown",
   "metadata": {},
   "source": [
    "$\\textbf{Exercise.}$ Write a routine for stratified k-fold cross-validation."
   ]
  },
  {
   "cell_type": "code",
   "execution_count": 24,
   "metadata": {
    "jupyter": {
     "outputs_hidden": false
    }
   },
   "outputs": [
    {
     "name": "stdout",
     "output_type": "stream",
     "text": [
      "We need to train with 4 samples from class 1, and 45 samples from class 0.\n",
      "*** Training ***\n",
      "Elements of class 0: 0.9183673469387755\n",
      "Elements of class 1: 0.08163265306122448\n",
      "*** Testing ***\n",
      "Elements of class 0: 0.9019607843137255\n",
      "Elements of class 1: 0.09803921568627451\n"
     ]
    }
   ],
   "source": [
    "ratio = np.sum(y==1)/len(y)\n",
    "test_size = 0.5 * len(y)\n",
    "\n",
    "pos_test_size = int(ratio*test_size)\n",
    "neg_test_size = int((1-ratio) * test_size)\n",
    "\n",
    "print(\"We need to train with \" + str(pos_test_size) + \" samples from class 1, and \" + str(neg_test_size) + \\\n",
    "      \" samples from class 0.\")\n",
    "\n",
    "idx_pos_train = np.random.choice(np.where(y==1)[0], pos_test_size, replace = False)\n",
    "idx_neg_train = np.random.choice(np.where(y==0)[0], neg_test_size, replace = False)\n",
    "\n",
    "train_indices = np.concatenate([idx_pos_train,idx_neg_train])\n",
    "\n",
    "y_train = y[train_indices]\n",
    "X_train = X[train_indices,:]\n",
    "\n",
    "idx_pos_test = np.setdiff1d(np.where(y==1)[0],idx_pos_train, assume_unique = True)\n",
    "idx_neg_test = np.setdiff1d(np.where(y==0)[0], idx_neg_train, assume_unique = True)\n",
    "\n",
    "test_indices = np.concatenate([idx_pos_test,idx_neg_test])\n",
    "y_test = y[test_indices]\n",
    "X_test = X[test_indices,:]\n",
    "\n",
    "\n",
    "print(\"*** Training ***\")\n",
    "print(\"Elements of class 0: \" + str(np.sum(y_train==0)/len(y_train)))\n",
    "print(\"Elements of class 1: \" + str(np.sum(y_train==1)/len(y_train)))\n",
    "\n",
    "print(\"*** Testing ***\")\n",
    "print(\"Elements of class 0: \" + str(np.sum(y_test==0)/len(y_test)))\n",
    "print(\"Elements of class 1: \" + str(np.sum(y_test==1)/len(y_test)))"
   ]
  },
  {
   "cell_type": "code",
   "execution_count": 25,
   "metadata": {
    "jupyter": {
     "outputs_hidden": false
    }
   },
   "outputs": [
    {
     "name": "stdout",
     "output_type": "stream",
     "text": [
      "\n",
      "[ 1  2  3  6  7  8  9 10 11] [0 4 5]\n",
      "*** Training ***\n",
      "Elements of class 0: 0.3333333333333333\n",
      "Elements of class 1: 0.6666666666666666\n",
      "*** Testing ***\n",
      "Elements of class 0: 0.3333333333333333\n",
      "Elements of class 1: 0.6666666666666666\n",
      "\n",
      "[ 0  2  3  4  5  8  9 10 11] [1 6 7]\n",
      "*** Training ***\n",
      "Elements of class 0: 0.3333333333333333\n",
      "Elements of class 1: 0.6666666666666666\n",
      "*** Testing ***\n",
      "Elements of class 0: 0.3333333333333333\n",
      "Elements of class 1: 0.6666666666666666\n",
      "\n",
      "[ 0  1  3  4  5  6  7 10 11] [2 8 9]\n",
      "*** Training ***\n",
      "Elements of class 0: 0.3333333333333333\n",
      "Elements of class 1: 0.6666666666666666\n",
      "*** Testing ***\n",
      "Elements of class 0: 0.3333333333333333\n",
      "Elements of class 1: 0.6666666666666666\n",
      "\n",
      "[0 1 2 4 5 6 7 8 9] [ 3 10 11]\n",
      "*** Training ***\n",
      "Elements of class 0: 0.3333333333333333\n",
      "Elements of class 1: 0.6666666666666666\n",
      "*** Testing ***\n",
      "Elements of class 0: 0.3333333333333333\n",
      "Elements of class 1: 0.6666666666666666\n"
     ]
    }
   ],
   "source": [
    "from sklearn.model_selection import StratifiedKFold\n",
    "\n",
    "X = np.ones(12)\n",
    "y = np.array([0, 0, 0, 0, 1, 1, 1, 1, 1, 1, 1, 1])\n",
    "\n",
    "skf = StratifiedKFold(n_splits=4)\n",
    "for train, test in skf.split(X, y):\n",
    "    print(\"\\n%s %s\" % (train, test))\n",
    "    print(\"*** Training ***\")\n",
    "    print(\"Elements of class 0: \" + str(np.sum(y[train]==0)/len(y[train])))\n",
    "    print(\"Elements of class 1: \" + str(np.sum(y[train]==1)/len(y[train])))\n",
    "\n",
    "    print(\"*** Testing ***\")\n",
    "    print(\"Elements of class 0: \" + str(np.sum(y[test]==0)/len(y[test])))\n",
    "    print(\"Elements of class 1: \" + str(np.sum(y[test]==1)/len(y[test])))"
   ]
  },
  {
   "cell_type": "markdown",
   "metadata": {},
   "source": [
    "The problem of unbalanced data is critical when assessing a classification metric. We recall that the accuracy is defined as: \n",
    "\n",
    "$$ ACC = \\frac{\\mbox{True Positives} + \\mbox{True negatives}}{\\mbox{Total sample size}}.$$\n",
    "\n",
    "If there is unbalance in the data, for example the positive class represents 90% of the population, a classifier predicting constantly positive will lead to an accuracy of $.9$ without however correctly predicting any of the samples of the negative class. This may represent a serious issue, for example in _fraud detection_ problems, where we are interested in predicting classes which are very rare (the frauds).\n"
   ]
  },
  {
   "cell_type": "code",
   "execution_count": 26,
   "metadata": {
    "jupyter": {
     "outputs_hidden": false
    }
   },
   "outputs": [
    {
     "name": "stdout",
     "output_type": "stream",
     "text": [
      "Accuracy:\n",
      "    (tp + tn)/tot: 0.945\n"
     ]
    }
   ],
   "source": [
    "X, y = make_classification(n_samples = 400, n_features=2, n_redundant=0, n_informative=2, \\\n",
    "                           random_state=0, n_clusters_per_class=1, weights = [0.90])\n",
    "\n",
    "\n",
    "clf = svm.SVC(kernel='linear', probability=True,\n",
    "                     random_state=random_state)\n",
    "\n",
    "skf = StratifiedKFold(n_splits=2)\n",
    "\n",
    "X_train, X_test, y_train, y_test = train_test_split(X, y, test_size=0.5, random_state=43, stratify = y)\n",
    "clf = clf.fit(X_train, y_train)\n",
    "\n",
    "\n",
    "print(\"Accuracy:\\n    (tp + tn)/tot: \" + str(clf.score(X_test, y_test)))"
   ]
  },
  {
   "cell_type": "markdown",
   "metadata": {},
   "source": [
    "In this case, better metrics are the Precision (false positive rate) and Recall (false negative rate):"
   ]
  },
  {
   "cell_type": "code",
   "execution_count": 27,
   "metadata": {
    "jupyter": {
     "outputs_hidden": false
    }
   },
   "outputs": [
    {
     "name": "stdout",
     "output_type": "stream",
     "text": [
      "\n",
      " *** False positive and False negative rates ***\n",
      "Precision\n",
      "    tp / (tp + fp)): 0.47619047619047616\n",
      "Recall\n",
      "    tp / (tp + fn): 1.0\n"
     ]
    }
   ],
   "source": [
    "print(\"\\n *** False positive and False negative rates ***\")\n",
    "\n",
    "P = precision_score(clf.predict(X_test), y_test)\n",
    "R = recall_score(clf.predict(X_test), y_test)\n",
    "\n",
    "print(\"Precision\\n    tp / (tp + fp)): \" + str(P))\n",
    "print(\"Recall\\n    tp / (tp + fn): \" + str(R))\n",
    "\n"
   ]
  },
  {
   "cell_type": "markdown",
   "metadata": {},
   "source": [
    "These quantities are also related to the F1 score, which is defined as the harmonic mean of precision and recall:\n",
    "$$ F1 = 2\\frac{Prec * Rec}{Prec + Rec}$$\n"
   ]
  },
  {
   "cell_type": "code",
   "execution_count": 28,
   "metadata": {
    "jupyter": {
     "outputs_hidden": false
    }
   },
   "outputs": [
    {
     "name": "stdout",
     "output_type": "stream",
     "text": [
      "F1: 0.6451612903225806\n"
     ]
    }
   ],
   "source": [
    "print(\"F1: \" + str(2*P*R/(P+R)))"
   ]
  },
  {
   "cell_type": "markdown",
   "metadata": {},
   "source": [
    "In the unbalanced case, the ROC AUC is also not appropriate for the quantification of the performance:"
   ]
  },
  {
   "cell_type": "code",
   "execution_count": 29,
   "metadata": {
    "jupyter": {
     "outputs_hidden": false
    }
   },
   "outputs": [
    {
     "name": "stderr",
     "output_type": "stream",
     "text": [
      "/Users/mlorenzi/miniconda3/lib/python3.6/site-packages/ipykernel_launcher.py:11: DeprecationWarning: scipy.interp is deprecated and will be removed in SciPy 2.0.0, use numpy.interp instead\n",
      "  # This is added back by InteractiveShellApp.init_path()\n",
      "/Users/mlorenzi/miniconda3/lib/python3.6/site-packages/ipykernel_launcher.py:11: DeprecationWarning: scipy.interp is deprecated and will be removed in SciPy 2.0.0, use numpy.interp instead\n",
      "  # This is added back by InteractiveShellApp.init_path()\n",
      "/Users/mlorenzi/miniconda3/lib/python3.6/site-packages/ipykernel_launcher.py:11: DeprecationWarning: scipy.interp is deprecated and will be removed in SciPy 2.0.0, use numpy.interp instead\n",
      "  # This is added back by InteractiveShellApp.init_path()\n",
      "/Users/mlorenzi/miniconda3/lib/python3.6/site-packages/ipykernel_launcher.py:11: DeprecationWarning: scipy.interp is deprecated and will be removed in SciPy 2.0.0, use numpy.interp instead\n",
      "  # This is added back by InteractiveShellApp.init_path()\n",
      "/Users/mlorenzi/miniconda3/lib/python3.6/site-packages/ipykernel_launcher.py:11: DeprecationWarning: scipy.interp is deprecated and will be removed in SciPy 2.0.0, use numpy.interp instead\n",
      "  # This is added back by InteractiveShellApp.init_path()\n",
      "/Users/mlorenzi/miniconda3/lib/python3.6/site-packages/ipykernel_launcher.py:11: DeprecationWarning: scipy.interp is deprecated and will be removed in SciPy 2.0.0, use numpy.interp instead\n",
      "  # This is added back by InteractiveShellApp.init_path()\n"
     ]
    },
    {
     "data": {
      "image/png": "[encoded data removed]",
      "text/plain": [
       "<Figure size 432x288 with 1 Axes>"
      ]
     },
     "metadata": {
      "needs_background": "light"
     },
     "output_type": "display_data"
    }
   ],
   "source": [
    "cv = StratifiedKFold(n_splits=6)\n",
    "roc_sample = []\n",
    "aucs = []\n",
    "mean_fpr = np.linspace(0, 1, 100)\n",
    "i = 0\n",
    "\n",
    "for train, test in cv.split(X, y):\n",
    "    probas_ = clf.fit(X[train], y[train]).predict_proba(X[test])\n",
    "    # Compute ROC curve and area under the curve\n",
    "    fpr, tpr, thresholds = roc_curve(y[test], probas_[:, 1])\n",
    "    roc_sample.append(interp(mean_fpr, fpr, tpr))\n",
    "    # We impose the ROC curve to start from 0\n",
    "    roc_sample[-1][0] = 0.0\n",
    "    # Compute the area under the curve\n",
    "    roc_auc = auc(fpr, tpr)\n",
    "    aucs.append(roc_auc)\n",
    "    # Plotting the ROC curve\n",
    "    plt.plot(fpr, tpr, lw=1, alpha=0.3,\n",
    "             label='ROC fold %d (AUC = %0.2f)' % (i, roc_auc))\n",
    "\n",
    "    i += 1\n",
    "\n",
    "plt.legend()\n",
    "plt.title(\"Average AUC = \" + str(np.mean(aucs)))\n",
    "plt.show()\n"
   ]
  },
  {
   "cell_type": "code",
   "execution_count": 30,
   "metadata": {
    "jupyter": {
     "outputs_hidden": false
    }
   },
   "outputs": [
    {
     "data": {
      "image/png": "[encoded data removed]",
      "text/plain": [
       "<Figure size 432x288 with 1 Axes>"
      ]
     },
     "metadata": {
      "needs_background": "light"
     },
     "output_type": "display_data"
    }
   ],
   "source": [
    "from sklearn.metrics import precision_recall_curve\n",
    "from sklearn.metrics import average_precision_score\n",
    "\n",
    "avg_pr = []\n",
    "mean_R = np.linspace(0, 1, 100)\n",
    "\n",
    "for train, test in cv.split(X, y):\n",
    "    probas_ = clf.fit(X[train], y[train]).predict_proba(X[test])\n",
    "    # Compute ROC curve and area under the curve\n",
    "    P, R, thresholds = precision_recall_curve(y[test], probas_[:, 1])\n",
    "\n",
    "    average_precision = average_precision_score(y[test], probas_[:, 1])\n",
    "    avg_pr.append(average_precision)\n",
    "    # Plotting the ROC curve\n",
    "    plt.plot(R, P, lw=1, alpha=0.3,\n",
    "             label='average PR fold %d  = %0.2f' % (i, average_precision))\n",
    "\n",
    "    i += 1\n",
    "\n",
    "plt.legend()\n",
    "plt.title(\"Average PR = \" + str(np.mean(avg_pr)))\n",
    "plt.show()\n",
    "\n"
   ]
  },
  {
   "cell_type": "code",
   "execution_count": null,
   "metadata": {},
   "outputs": [],
   "source": []
  }
 ],
 "metadata": {
  "kernelspec": {
   "display_name": "Python 3",
   "language": "python",
   "name": "python3"
  },
  "language_info": {
   "codemirror_mode": {
    "name": "ipython",
    "version": 3
   },
   "file_extension": ".py",
   "mimetype": "text/x-python",
   "name": "python",
   "nbconvert_exporter": "python",
   "pygments_lexer": "ipython3",
   "version": "3.6.12"
  }
 },
 "nbformat": 4,
 "nbformat_minor": 4
}
